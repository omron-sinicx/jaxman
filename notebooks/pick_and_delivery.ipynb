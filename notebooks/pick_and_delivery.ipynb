{
 "cells": [
  {
   "cell_type": "code",
   "execution_count": 1,
   "metadata": {},
   "outputs": [
    {
     "name": "stderr",
     "output_type": "stream",
     "text": [
      "WARNING:absl:No GPU/TPU found, falling back to CPU. (Set TF_CPP_MIN_LOG_LEVEL=0 and rerun for more info.)\n",
      "2023-03-20 16:50:34.747415: W tensorflow/stream_executor/platform/default/dso_loader.cc:64] Could not load dynamic library 'libcudart.so.11.0'; dlerror: libcudart.so.11.0: cannot open shared object file: No such file or directory; LD_LIBRARY_PATH: /home/asano/jaxman/.venv/lib/python3.9/site-packages/cv2/../../lib64:/usr/local/cuda/lib64:\n",
      "2023-03-20 16:50:34.777337: E tensorflow/stream_executor/cuda/cuda_blas.cc:2981] Unable to register cuBLAS factory: Attempting to register factory for plugin cuBLAS when one has already been registered\n",
      "2023-03-20 16:50:35.402352: W tensorflow/stream_executor/platform/default/dso_loader.cc:64] Could not load dynamic library 'libnvinfer.so.7'; dlerror: libnvinfer.so.7: cannot open shared object file: No such file or directory; LD_LIBRARY_PATH: /home/asano/jaxman/.venv/lib/python3.9/site-packages/cv2/../../lib64:/usr/local/cuda/lib64:\n",
      "2023-03-20 16:50:35.402454: W tensorflow/stream_executor/platform/default/dso_loader.cc:64] Could not load dynamic library 'libnvinfer_plugin.so.7'; dlerror: libnvinfer_plugin.so.7: cannot open shared object file: No such file or directory; LD_LIBRARY_PATH: /home/asano/jaxman/.venv/lib/python3.9/site-packages/cv2/../../lib64:/usr/local/cuda/lib64:\n",
      "2023-03-20 16:50:35.402464: W tensorflow/compiler/tf2tensorrt/utils/py_utils.cc:38] TF-TRT Warning: Cannot dlopen some TensorRT libraries. If you would like to use Nvidia GPU with TensorRT, please make sure the missing libraries mentioned above are installed properly.\n"
     ]
    },
    {
     "data": {
      "text/plain": [
       "<matplotlib.image.AxesImage at 0x7f79c2b7a310>"
      ]
     },
     "execution_count": 1,
     "metadata": {},
     "output_type": "execute_result"
    },
    {
     "data": {
      "image/png": "[encoded data removed]",
      "text/plain": [
       "<Figure size 640x480 with 1 Axes>"
      ]
     },
     "metadata": {},
     "output_type": "display_data"
    }
   ],
   "source": [
    "import hydra\n",
    "import jax.numpy as jnp\n",
    "import matplotlib.pyplot as plt\n",
    "import jax\n",
    "from omegaconf import OmegaConf\n",
    "from jaxman.env.pick_and_delivery.env import JaxPandDEnv\n",
    "from jaxman.utils import compute_agent_action\n",
    "from jaxman.utils import compute_agent_action\n",
    "from jaxman.planner.rl_planner.agent.dqn.dqn import create_dqn_agent\n",
    "from flax.training import checkpoints\n",
    "config = hydra.utils.instantiate(OmegaConf.load(\"../scripts/config/env/pick_and_delivery/grid.yaml\"))\n",
    "model_config = hydra.utils.instantiate(OmegaConf.load(\"../scripts/config/model/dqn.yaml\"))\n",
    "config.level=0\n",
    "config.map_size=10\n",
    "config.num_agents=2\n",
    "config.num_items=5\n",
    "config.is_decay_reward=False\n",
    "config.is_biased_sample=True\n",
    "config.use_hold_item_info=True\n",
    "env = JaxPandDEnv(config)\n",
    "key = jax.random.PRNGKey(0)\n",
    "\n",
    "plt.imshow(env.render())"
   ]
  },
  {
   "cell_type": "code",
   "execution_count": 111,
   "metadata": {},
   "outputs": [],
   "source": [
    "agent, key = create_dqn_agent(env.observation_space, env.act_space, model_config, key)\n",
    "actor = agent.actor\n",
    "actor = checkpoints.restore_checkpoint(\n",
    "    ckpt_dir=\"../model/pick_and_delivery_random/\",\n",
    "    target=actor,\n",
    "    prefix=\"grid_actor_single\",\n",
    ")"
   ]
  },
  {
   "cell_type": "code",
   "execution_count": 3,
   "metadata": {},
   "outputs": [],
   "source": [
    "ACTION_DICT = {\n",
    "    \"STAY\": 0,\n",
    "    \"RIGHT\": 1,\n",
    "    \"LEFT\": 2,\n",
    "    \"DOWN\": 3,\n",
    "    \"UP\": 4,\n",
    "    \"LOAD\": 5,\n",
    "    \"UNLOAD\": 5,\n",
    "}"
   ]
  },
  {
   "cell_type": "code",
   "execution_count": 12,
   "metadata": {},
   "outputs": [
    {
     "name": "stdout",
     "output_type": "stream",
     "text": [
      "stay, right, left, down, up, load/unload\n",
      "rew:[0.], act:[1], done:[False]\n",
      "rew:[0.], act:[1], done:[False]\n",
      "rew:[0.], act:[1], done:[False]\n",
      "rew:[0.], act:[1], done:[False]\n",
      "rew:[0.], act:[1], done:[False]\n",
      "rew:[0.], act:[1], done:[False]\n",
      "rew:[0.], act:[1], done:[False]\n",
      "rew:[0.], act:[1], done:[False]\n",
      "rew:[0.], act:[1], done:[False]\n",
      "rew:[0.], act:[1], done:[False]\n"
     ]
    },
    {
     "data": {
      "image/png": "[encoded data removed]",
      "text/plain": [
       "<Figure size 2100x300 with 10 Axes>"
      ]
     },
     "metadata": {},
     "output_type": "display_data"
    }
   ],
   "source": [
    "key, subkey = jax.random.split(key)\n",
    "obs = env.reset(subkey)\n",
    "\n",
    "is_item_loaded = jnp.expand_dims(jnp.arange(env.num_items) < env.num_agents, -1)\n",
    "item_starts = (env.task_info.item_starts + is_item_loaded * 10000).astype(int)\n",
    "env.state = env.state._replace(load_item_id=jnp.arange(env.num_agents), item_pos = item_starts)\n",
    "fig, axes = plt.subplots(1, 10, figsize=(21, 3))\n",
    "print(\"stay, right, left, down, up, load/unload\")\n",
    "for i in range(10):\n",
    "    key, subkey = jax.random.split(key)\n",
    "    #compute agent action\n",
    "    obs = obs.split_observation()\n",
    "    q_value = actor.apply_fn({\"params\":actor.params}, obs)\n",
    "    actions = jnp.argmax(q_value,axis=-1)\n",
    "    # print(f\"q_value:{q_value[0]} max_q_value:{jnp.max(q_value)}\")\n",
    "    # print(f\"probability:{q_value[0]/jnp.sum(q_value)}\")\n",
    "\n",
    "    # actions = jax.random.choice(subkey, 6, (config.num_agents,))\n",
    "    actions = compute_agent_action([\"RIGHT\"])\n",
    "    obs, rew, done, trial_info = env.step(actions)\n",
    "    print(f\"rew:{rew}, act:{actions}, done:{done}\")\n",
    "    axes[i].imshow(env.render())\n",
    "\n",
    "# _observe(state, task_info, trial_info)"
   ]
  },
  {
   "cell_type": "code",
   "execution_count": 10,
   "metadata": {},
   "outputs": [
    {
     "name": "stdout",
     "output_type": "stream",
     "text": [
      "[[[0 0 0 0]\n",
      "  [1 8 7 9]]\n",
      "\n",
      " [[0 0 0 0]\n",
      "  [1 8 7 9]]]\n"
     ]
    },
    {
     "data": {
      "text/plain": [
       "<matplotlib.image.AxesImage at 0x7f79c231bb80>"
      ]
     },
     "execution_count": 10,
     "metadata": {},
     "output_type": "execute_result"
    },
    {
     "data": {
      "image/png": "[encoded data removed]",
      "text/plain": [
       "<Figure size 640x480 with 1 Axes>"
      ]
     },
     "metadata": {},
     "output_type": "display_data"
    }
   ],
   "source": [
    "actions = jnp.array([0,5], dtype=int)\n",
    "# fig, axes = plt.subplots(1, 10, figsize=(21, 3))\n",
    "# for i in range(10):\n",
    "# actions = compute_agent_action([\"STAY\"])\n",
    "obs, rew, done, trial_info = env.step(actions)\n",
    "# print(f\"rew:{rew}, act:{actions}, done:{done},\")\n",
    "print(obs.hold_item_info)\n",
    "# print(f\"item info:{obs.item_\n",
    "\n",
    "plt.imshow(env.render())"
   ]
  },
  {
   "cell_type": "code",
   "execution_count": null,
   "metadata": {},
   "outputs": [],
   "source": []
  }
 ],
 "metadata": {
  "kernelspec": {
   "display_name": ".venv",
   "language": "python",
   "name": "python3"
  },
  "language_info": {
   "codemirror_mode": {
    "name": "ipython",
    "version": 3
   },
   "file_extension": ".py",
   "mimetype": "text/x-python",
   "name": "python",
   "nbconvert_exporter": "python",
   "pygments_lexer": "ipython3",
   "version": "3.9.10"
  },
  "orig_nbformat": 4,
  "vscode": {
   "interpreter": {
    "hash": "4ed474c167ef5838512e9ed5e5f8669ecfbd906a2d8a69b27b079c8cc00c81be"
   }
  }
 },
 "nbformat": 4,
 "nbformat_minor": 2
}
