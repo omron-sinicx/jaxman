{
 "cells": [
  {
   "cell_type": "code",
   "execution_count": 8,
   "metadata": {},
   "outputs": [],
   "source": [
    "import hydra\n",
    "import jax.numpy as jnp\n",
    "import matplotlib.pyplot as plt\n",
    "import jax\n",
    "from omegaconf import OmegaConf\n",
    "from jaxman.env.pick_and_delivery.env import JaxPandDEnv\n",
    "from jaxman.utils import compute_agent_action\n",
    "from jaxman.utils import compute_agent_action\n",
    "from jaxman.planner.rl_planner.agent.sac.sac import create_sac_agent\n",
    "from jaxman.planner.rl_planner.agent.dqn.dqn import create_dqn_agent\n",
    "from flax.training import checkpoints\n",
    "config = hydra.utils.instantiate(OmegaConf.load(\"../scripts/config/env/pick_and_delivery/grid.yaml\"))\n",
    "model_config = hydra.utils.instantiate(OmegaConf.load(\"../scripts/config/model/dqn.yaml\"))\n",
    "config.level=0\n",
    "config.map_size=10\n",
    "config.num_agents=1\n",
    "config.num_items=5\n",
    "config.dist_reward=0\n",
    "config.comm_r=4\n",
    "config.is_crash=False\n",
    "env = JaxPandDEnv(config)\n",
    "# plt.imshow(env.render())\n",
    "key = jax.random.PRNGKey(0)"
   ]
  },
  {
   "cell_type": "code",
   "execution_count": 9,
   "metadata": {},
   "outputs": [],
   "source": [
    "agent, key = create_dqn_agent(env.observation_space, env.act_space, model_config, key)\n",
    "actor = agent.actor\n",
    "actor = checkpoints.restore_checkpoint(\n",
    "    ckpt_dir=\"../model/pick_and_delivery/\",\n",
    "    target=actor,\n",
    "    prefix=\"grid_actor\",\n",
    ")"
   ]
  },
  {
   "cell_type": "code",
   "execution_count": 10,
   "metadata": {},
   "outputs": [],
   "source": [
    "ACTION_DICT = {\n",
    "    \"STAY\": 0,\n",
    "    \"RIGHT\": 1,\n",
    "    \"LEFT\": 2,\n",
    "    \"DOWN\": 3,\n",
    "    \"UP\": 4,\n",
    "    \"LOAD\": 5,\n",
    "    \"UNLOAD\": 5,\n",
    "}"
   ]
  },
  {
   "cell_type": "code",
   "execution_count": 11,
   "metadata": {},
   "outputs": [
    {
     "data": {
      "text/plain": [
       "<matplotlib.image.AxesImage at 0x7f5900a0f4f0>"
      ]
     },
     "execution_count": 11,
     "metadata": {},
     "output_type": "execute_result"
    },
    {
     "data": {
      "image/png": "[encoded data removed]",
      "text/plain": [
       "<Figure size 640x480 with 1 Axes>"
      ]
     },
     "metadata": {},
     "output_type": "display_data"
    }
   ],
   "source": [
    "plt.imshow(env.render())"
   ]
  },
  {
   "cell_type": "code",
   "execution_count": 12,
   "metadata": {},
   "outputs": [
    {
     "name": "stdout",
     "output_type": "stream",
     "text": [
      "stay, right, left, down, up, load/unload\n",
      "rew:[0.], act:[1], done:[False]\n",
      "rew:[0.], act:[1], done:[False]\n",
      "rew:[0.], act:[1], done:[False]\n",
      "rew:[0.], act:[1], done:[False]\n",
      "rew:[0.], act:[1], done:[False]\n",
      "rew:[0.], act:[1], done:[False]\n",
      "rew:[0.], act:[1], done:[False]\n",
      "rew:[0.], act:[1], done:[False]\n",
      "rew:[0.], act:[1], done:[False]\n",
      "rew:[0.], act:[1], done:[False]\n"
     ]
    },
    {
     "data": {
      "image/png": "[encoded data removed]",
      "text/plain": [
       "<Figure size 2100x300 with 10 Axes>"
      ]
     },
     "metadata": {},
     "output_type": "display_data"
    }
   ],
   "source": [
    "key, subkey = jax.random.split(key)\n",
    "obs = env.reset(subkey)\n",
    "\n",
    "is_item_loaded = jnp.expand_dims(jnp.arange(env.num_items) < env.num_agents, -1)\n",
    "item_starts = (env.task_info.item_starts + is_item_loaded * 10000).astype(int)\n",
    "env.state = env.state._replace(load_item_id=jnp.arange(env.num_agents), item_pos = item_starts)\n",
    "fig, axes = plt.subplots(1, 10, figsize=(21, 3))\n",
    "print(\"stay, right, left, down, up, load/unload\")\n",
    "for i in range(10):\n",
    "    key, subkey = jax.random.split(key)\n",
    "    #compute agent action\n",
    "    obs = obs.split_observation()\n",
    "    q_value = actor.apply_fn({\"params\":actor.params}, obs)\n",
    "    actions = jnp.argmax(q_value,axis=-1)\n",
    "    # print(f\"q_value:{q_value[0]} max_q_value:{jnp.max(q_value)}\")\n",
    "    # print(f\"probability:{q_value[0]/jnp.sum(q_value)}\")\n",
    "\n",
    "    # actions = jax.random.choice(subkey, 6, (config.num_agents,))\n",
    "    actions = compute_agent_action([\"RIGHT\"])\n",
    "    obs, rew, done, trial_info = env.step(actions)\n",
    "    print(f\"rew:{rew}, act:{actions}, done:{done}\")\n",
    "    axes[i].imshow(env.render())\n",
    "\n",
    "# _observe(state, task_info, trial_info)"
   ]
  },
  {
   "cell_type": "code",
   "execution_count": 31,
   "metadata": {},
   "outputs": [],
   "source": [
    "jnp.set_printoptions(precision=3)"
   ]
  },
  {
   "cell_type": "code",
   "execution_count": 22,
   "metadata": {},
   "outputs": [
    {
     "name": "stdout",
     "output_type": "stream",
     "text": [
      "rew:[0.], act:[5], done:[False]\n",
      "item info:[[[  -4    1    4    5]\n",
      "  [9995 9997    6    2]\n",
      "  [   3   -1    7    6]\n",
      "  [   0    1    2    3]]], goal:[[6 2]], hold:[[1]], mask:[[ True False  True  True]]\n"
     ]
    },
    {
     "data": {
      "text/plain": [
       "<matplotlib.image.AxesImage at 0x7f4562a8daf0>"
      ]
     },
     "execution_count": 22,
     "metadata": {},
     "output_type": "execute_result"
    },
    {
     "data": {
      "image/png": "[encoded data removed]",
      "text/plain": [
       "<Figure size 640x480 with 1 Axes>"
      ]
     },
     "metadata": {},
     "output_type": "display_data"
    }
   ],
   "source": [
    "\n",
    "actions = compute_agent_action([\"LOAD\"])\n",
    "# actions = compute_agent_action([LOAD\"RIGHT\",\"LEFT\"])\n",
    "obs, rew, done, trial_info = env.step(actions)\n",
    "print(f\"rew:{rew}, act:{actions}, done:{done}\")\n",
    "print(f\"item info:{obs.item_info}, goal:{obs.item_goals}, hold:{obs.is_hold_item}, mask:{obs.item_masks}\")\n",
    "plt.imshow(env.render())"
   ]
  },
  {
   "cell_type": "code",
   "execution_count": null,
   "metadata": {},
   "outputs": [],
   "source": []
  },
  {
   "cell_type": "code",
   "execution_count": 25,
   "metadata": {},
   "outputs": [
    {
     "name": "stderr",
     "output_type": "stream",
     "text": [
      "/home/asano/jaxman/.venv/lib/python3.9/site-packages/jax/_src/tree_util.py:188: FutureWarning: jax.tree_util.tree_multimap() is deprecated. Please use jax.tree_util.tree_map() instead as a drop-in replacement.\n",
      "  warnings.warn('jax.tree_util.tree_multimap() is deprecated. Please use jax.tree_util.tree_map() '\n"
     ]
    }
   ],
   "source": [
    "sac, key = create_sac_agent(env.observation_space,env.action_space, model_config, key)"
   ]
  },
  {
   "cell_type": "code",
   "execution_count": 26,
   "metadata": {},
   "outputs": [],
   "source": [
    "actor = sac.actor"
   ]
  },
  {
   "cell_type": "code",
   "execution_count": 17,
   "metadata": {},
   "outputs": [],
   "source": [
    "obs = obs._replace(is_hold_item=jnp.array([[900]]))"
   ]
  },
  {
   "cell_type": "code",
   "execution_count": 20,
   "metadata": {},
   "outputs": [
    {
     "data": {
      "text/plain": [
       "AgentObservation(agent_state=AgentState(pos=DeviceArray([[5, 4]], dtype=int32), rot=DeviceArray([[0]], dtype=int32), vel=DeviceArray([[0]], dtype=int32), ang=DeviceArray([[0]], dtype=int32)), obs_scans=DeviceArray([[1., 0., 0., 0., 0., 0., 0., 0., 0., 1., 0., 1., 0., 0., 0.,\n",
       "              0., 0., 0., 1., 0., 0., 0., 0., 0., 0., 1., 0., 1., 0., 0.,\n",
       "              0., 0., 0., 0., 0., 0., 1., 0., 0., 0., 0., 0., 0., 0., 0.,\n",
       "              1., 0., 0., 0., 0., 0., 0., 0., 0., 1., 0., 0., 0., 0., 1.,\n",
       "              0., 0., 0., 1., 0., 0., 0., 0., 0., 0., 0., 0., 1., 1., 1.,\n",
       "              1., 1., 1., 1., 1., 1.]], dtype=float32), is_hold_item=DeviceArray([[900]], dtype=int32), relative_positions=DeviceArray([[[0, 0]]], dtype=int32), intentions=DeviceArray([[[0, 0]]], dtype=int32), item_info=DeviceArray([[[9999, 9998,    4,    2],\n",
       "              [9995, 9996,    5,    5],\n",
       "              [   2,    1,    6,    5],\n",
       "              [  -3,   -2,    4,    4],\n",
       "              [  -2,    3,    7,    3]]], dtype=int32), masks=DeviceArray([[False]], dtype=bool), item_masks=DeviceArray([[False, False,  True,  True,  True]], dtype=bool), item_goals=DeviceArray([[5, 5]], dtype=int32))"
      ]
     },
     "execution_count": 20,
     "metadata": {},
     "output_type": "execute_result"
    }
   ],
   "source": [
    "obs"
   ]
  },
  {
   "cell_type": "code",
   "execution_count": 18,
   "metadata": {},
   "outputs": [
    {
     "data": {
      "text/plain": [
       "DeviceArray([[ 5.000e+00,  4.000e+00,  0.000e+00,  0.000e+00,  0.000e+00,\n",
       "               1.000e+00,  0.000e+00,  0.000e+00,  0.000e+00,  0.000e+00,\n",
       "               0.000e+00,  0.000e+00,  0.000e+00,  0.000e+00,  1.000e+00,\n",
       "               0.000e+00,  1.000e+00,  0.000e+00,  0.000e+00,  0.000e+00,\n",
       "               0.000e+00,  0.000e+00,  0.000e+00,  1.000e+00,  0.000e+00,\n",
       "               0.000e+00,  0.000e+00,  0.000e+00,  0.000e+00,  0.000e+00,\n",
       "               1.000e+00,  0.000e+00,  1.000e+00,  0.000e+00,  0.000e+00,\n",
       "               0.000e+00,  0.000e+00,  0.000e+00,  0.000e+00,  0.000e+00,\n",
       "               0.000e+00,  1.000e+00,  0.000e+00,  0.000e+00,  0.000e+00,\n",
       "               0.000e+00,  0.000e+00,  0.000e+00,  0.000e+00,  0.000e+00,\n",
       "               1.000e+00,  0.000e+00,  0.000e+00,  0.000e+00,  0.000e+00,\n",
       "               0.000e+00,  0.000e+00,  0.000e+00,  0.000e+00,  1.000e+00,\n",
       "               0.000e+00,  0.000e+00,  0.000e+00,  0.000e+00,  1.000e+00,\n",
       "               0.000e+00,  0.000e+00,  0.000e+00,  1.000e+00,  0.000e+00,\n",
       "               0.000e+00,  0.000e+00,  0.000e+00,  0.000e+00,  0.000e+00,\n",
       "               0.000e+00,  0.000e+00,  1.000e+00,  1.000e+00,  1.000e+00,\n",
       "               1.000e+00,  1.000e+00,  1.000e+00,  1.000e+00,  1.000e+00,\n",
       "               1.000e+00,  9.000e+02,  5.000e+00,  5.000e+00,  0.000e+00,\n",
       "               0.000e+00,  0.000e+00,  0.000e+00,  0.000e+00,  9.999e+03,\n",
       "               9.998e+03,  4.000e+00,  2.000e+00,  9.995e+03,  9.996e+03,\n",
       "               5.000e+00,  5.000e+00,  2.000e+00,  1.000e+00,  6.000e+00,\n",
       "               5.000e+00, -3.000e+00, -2.000e+00,  4.000e+00,  4.000e+00,\n",
       "              -2.000e+00,  3.000e+00,  7.000e+00,  3.000e+00,  0.000e+00,\n",
       "               0.000e+00,  1.000e+00,  1.000e+00,  1.000e+00]],            dtype=float32)"
      ]
     },
     "execution_count": 18,
     "metadata": {},
     "output_type": "execute_result"
    }
   ],
   "source": [
    "obs.cat()"
   ]
  },
  {
   "cell_type": "code",
   "execution_count": 21,
   "metadata": {},
   "outputs": [],
   "source": [
    "total_comm_dim = 1 * 4\n",
    "mask_dim = 1\n",
    "total_item_dim = 5 * 4\n",
    "item_mask_dim = 5"
   ]
  },
  {
   "cell_type": "code",
   "execution_count": 23,
   "metadata": {},
   "outputs": [
    {
     "data": {
      "text/plain": [
       "DeviceArray([900.], dtype=float32)"
      ]
     },
     "execution_count": 23,
     "metadata": {},
     "output_type": "execute_result"
    }
   ],
   "source": [
    "obs.cat()[:, -3-total_comm_dim - mask_dim - total_item_dim - item_mask_dim]"
   ]
  },
  {
   "cell_type": "code",
   "execution_count": null,
   "metadata": {},
   "outputs": [],
   "source": []
  }
 ],
 "metadata": {
  "kernelspec": {
   "display_name": ".venv",
   "language": "python",
   "name": "python3"
  },
  "language_info": {
   "codemirror_mode": {
    "name": "ipython",
    "version": 3
   },
   "file_extension": ".py",
   "mimetype": "text/x-python",
   "name": "python",
   "nbconvert_exporter": "python",
   "pygments_lexer": "ipython3",
   "version": "3.9.10"
  },
  "orig_nbformat": 4,
  "vscode": {
   "interpreter": {
    "hash": "4ed474c167ef5838512e9ed5e5f8669ecfbd906a2d8a69b27b079c8cc00c81be"
   }
  }
 },
 "nbformat": 4,
 "nbformat_minor": 2
}
