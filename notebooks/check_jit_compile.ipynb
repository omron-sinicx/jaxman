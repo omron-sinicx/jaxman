{
 "cells": [
  {
   "cell_type": "markdown",
   "metadata": {},
   "source": [
    "# pseudo test of model attention"
   ]
  },
  {
   "cell_type": "code",
   "execution_count": 22,
   "metadata": {},
   "outputs": [],
   "source": [
    "import jax\n",
    "import jax.numpy as jnp\n",
    "\n",
    "from functools import partial"
   ]
  },
  {
   "cell_type": "code",
   "execution_count": 3,
   "metadata": {},
   "outputs": [],
   "source": [
    "@jax.jit\n",
    "def _check_jit(state, comm):\n",
    "    comm = jnp.sum(comm, axis=1)\n",
    "    state_com = jnp.concatenate((state, comm), axis=-1)\n",
    "    return jnp.mean(state_com, axis=-1)"
   ]
  },
  {
   "cell_type": "code",
   "execution_count": 64,
   "metadata": {},
   "outputs": [],
   "source": [
    "key = jax.random.PRNGKey(0)\n",
    "# (batch_size, neighbor_agent_num, obs_dim)\n",
    "state = jax.random.normal(key, shape=(1000,500))\n",
    "comm1 = jax.random.normal(key, shape=(1000,5,500))\n",
    "comm2 = jax.random.normal(key, shape=(1000,10,500))"
   ]
  },
  {
   "cell_type": "code",
   "execution_count": 66,
   "metadata": {},
   "outputs": [
    {
     "name": "stdout",
     "output_type": "stream",
     "text": [
      "CPU times: user 2.82 ms, sys: 0 ns, total: 2.82 ms\n",
      "Wall time: 1.49 ms\n",
      "CPU times: user 2.46 ms, sys: 0 ns, total: 2.46 ms\n",
      "Wall time: 2.48 ms\n",
      "CPU times: user 4.54 ms, sys: 0 ns, total: 4.54 ms\n",
      "Wall time: 4.03 ms\n",
      "CPU times: user 3.92 ms, sys: 0 ns, total: 3.92 ms\n",
      "Wall time: 2.25 ms\n",
      "CPU times: user 2.4 ms, sys: 0 ns, total: 2.4 ms\n",
      "Wall time: 1.46 ms\n",
      "CPU times: user 3.99 ms, sys: 0 ns, total: 3.99 ms\n",
      "Wall time: 2.28 ms\n"
     ]
    }
   ],
   "source": [
    "# dim=1のサイズが異なるとその度にrecompileしているみたい。サイズが変わる前の情報も保有しているのである程度時間が経つと早くなる\n",
    "# てっきり、エラーが出るかと思ったら普通に通った\n",
    "# なので、うまくvmapすれば、データごとに neighbor_agent_numが異なってもうまくいきそう\n",
    "# →やっぱ無理だった。batch_dimに対してarray_shapeは一緒でなければエラー出るはず。for_i_loopを使うとましになる？\n",
    "%time results = _check_jit(state,comm1)\n",
    "%time results = _check_jit(state,comm1)\n",
    "%time results = _check_jit(state,comm2)\n",
    "%time results = _check_jit(state,comm2)\n",
    "\n",
    "%time results = _check_jit(state,comm1)\n",
    "%time results = _check_jit(state,comm2)"
   ]
  },
  {
   "cell_type": "markdown",
   "metadata": {},
   "source": [
    "# Pseudo test of adaptive communication in environmnet"
   ]
  },
  {
   "cell_type": "code",
   "execution_count": 58,
   "metadata": {},
   "outputs": [
    {
     "ename": "ConcretizationTypeError",
     "evalue": "Abstract tracer value encountered where concrete value is expected: Traced<ShapedArray(int32[])>with<DynamicJaxprTrace(level=0/1)>\nThe size argument of jnp.nonzero must be statically specified to use jnp.nonzero within JAX transformations.\nWhile tracing the function get_neighbor_pos at /tmp/ipykernel_17011/3839109848.py:1 for jit, this concrete value was not available in Python because it depends on the value of the argument passed at flattened position 1.\n\nSee https://jax.readthedocs.io/en/latest/errors.html#jax.errors.ConcretizationTypeError",
     "output_type": "error",
     "traceback": [
      "\u001b[0;31m---------------------------------------------------------------------------\u001b[0m",
      "\u001b[0;31mConcretizationTypeError\u001b[0m                   Traceback (most recent call last)",
      "Cell \u001b[0;32mIn [58], line 12\u001b[0m\n\u001b[1;32m      9\u001b[0m pos \u001b[39m=\u001b[39m jax\u001b[39m.\u001b[39mrandom\u001b[39m.\u001b[39mnormal(key, shape\u001b[39m=\u001b[39m(\u001b[39m10\u001b[39m,\u001b[39m2\u001b[39m))\n\u001b[1;32m     10\u001b[0m r \u001b[39m=\u001b[39m jax\u001b[39m.\u001b[39mrandom\u001b[39m.\u001b[39mnormal(key, shape\u001b[39m=\u001b[39m(\u001b[39m10\u001b[39m,))\n\u001b[0;32m---> 12\u001b[0m get_neighbor_pos(pos,r, \u001b[39m0.1\u001b[39;49m)\n",
      "    \u001b[0;31m[... skipping hidden 14 frame]\u001b[0m\n",
      "Cell \u001b[0;32mIn [58], line 4\u001b[0m, in \u001b[0;36mget_neighbor_pos\u001b[0;34m(pos, r, neighbor_r)\u001b[0m\n\u001b[1;32m      1\u001b[0m \u001b[39m@partial\u001b[39m(jax\u001b[39m.\u001b[39mjit, static_argnames\u001b[39m=\u001b[39m(\u001b[39m\"\u001b[39m\u001b[39mneighbor_r\u001b[39m\u001b[39m\"\u001b[39m))\n\u001b[1;32m      2\u001b[0m \u001b[39m# @jax.jit\u001b[39;00m\n\u001b[1;32m      3\u001b[0m \u001b[39mdef\u001b[39;00m \u001b[39mget_neighbor_pos\u001b[39m(pos, r, neighbor_r):\n\u001b[0;32m----> 4\u001b[0m     idx \u001b[39m=\u001b[39m jnp\u001b[39m.\u001b[39;49mwhere(r\u001b[39m<\u001b[39;49mneighbor_r)\n\u001b[1;32m      5\u001b[0m     \u001b[39mprint\u001b[39m(idx)\n\u001b[1;32m      6\u001b[0m     neighbor_pos \u001b[39m=\u001b[39m jnp\u001b[39m.\u001b[39mtake(pos, idx)\n",
      "File \u001b[0;32m~/jaxman/.venv/lib/python3.9/site-packages/jax/_src/numpy/lax_numpy.py:984\u001b[0m, in \u001b[0;36mwhere\u001b[0;34m(condition, x, y, size, fill_value)\u001b[0m\n\u001b[1;32m    982\u001b[0m \u001b[39mif\u001b[39;00m x \u001b[39mis\u001b[39;00m \u001b[39mNone\u001b[39;00m \u001b[39mand\u001b[39;00m y \u001b[39mis\u001b[39;00m \u001b[39mNone\u001b[39;00m:\n\u001b[1;32m    983\u001b[0m   _check_arraylike(\u001b[39m\"\u001b[39m\u001b[39mwhere\u001b[39m\u001b[39m\"\u001b[39m, condition)\n\u001b[0;32m--> 984\u001b[0m   \u001b[39mreturn\u001b[39;00m nonzero(condition, size\u001b[39m=\u001b[39;49msize, fill_value\u001b[39m=\u001b[39;49mfill_value)\n\u001b[1;32m    985\u001b[0m \u001b[39melse\u001b[39;00m:\n\u001b[1;32m    986\u001b[0m   _check_arraylike(\u001b[39m\"\u001b[39m\u001b[39mwhere\u001b[39m\u001b[39m\"\u001b[39m, condition, x, y)\n",
      "File \u001b[0;32m~/jaxman/.venv/lib/python3.9/site-packages/jax/_src/numpy/lax_numpy.py:1219\u001b[0m, in \u001b[0;36mnonzero\u001b[0;34m(a, size, fill_value)\u001b[0m\n\u001b[1;32m   1217\u001b[0m \u001b[39mif\u001b[39;00m size \u001b[39mis\u001b[39;00m \u001b[39mNone\u001b[39;00m:\n\u001b[1;32m   1218\u001b[0m   size \u001b[39m=\u001b[39m mask\u001b[39m.\u001b[39msum()\n\u001b[0;32m-> 1219\u001b[0m size \u001b[39m=\u001b[39m core\u001b[39m.\u001b[39;49mconcrete_or_error(operator\u001b[39m.\u001b[39;49mindex, size,\n\u001b[1;32m   1220\u001b[0m   \u001b[39m\"\u001b[39;49m\u001b[39mThe size argument of jnp.nonzero must be statically specified \u001b[39;49m\u001b[39m\"\u001b[39;49m\n\u001b[1;32m   1221\u001b[0m   \u001b[39m\"\u001b[39;49m\u001b[39mto use jnp.nonzero within JAX transformations.\u001b[39;49m\u001b[39m\"\u001b[39;49m)\n\u001b[1;32m   1222\u001b[0m \u001b[39mif\u001b[39;00m a\u001b[39m.\u001b[39msize \u001b[39m==\u001b[39m \u001b[39m0\u001b[39m \u001b[39mor\u001b[39;00m size \u001b[39m==\u001b[39m \u001b[39m0\u001b[39m:\n\u001b[1;32m   1223\u001b[0m   \u001b[39mreturn\u001b[39;00m \u001b[39mtuple\u001b[39m(zeros(size, \u001b[39mint\u001b[39m) \u001b[39mfor\u001b[39;00m dim \u001b[39min\u001b[39;00m a\u001b[39m.\u001b[39mshape)\n",
      "File \u001b[0;32m~/jaxman/.venv/lib/python3.9/site-packages/jax/core.py:1125\u001b[0m, in \u001b[0;36mconcrete_or_error\u001b[0;34m(force, val, context)\u001b[0m\n\u001b[1;32m   1123\u001b[0m     \u001b[39mreturn\u001b[39;00m force(val\u001b[39m.\u001b[39maval\u001b[39m.\u001b[39mval)\n\u001b[1;32m   1124\u001b[0m   \u001b[39melse\u001b[39;00m:\n\u001b[0;32m-> 1125\u001b[0m     \u001b[39mraise\u001b[39;00m ConcretizationTypeError(val, context)\n\u001b[1;32m   1126\u001b[0m \u001b[39melse\u001b[39;00m:\n\u001b[1;32m   1127\u001b[0m   \u001b[39mreturn\u001b[39;00m force(val)\n",
      "\u001b[0;31mConcretizationTypeError\u001b[0m: Abstract tracer value encountered where concrete value is expected: Traced<ShapedArray(int32[])>with<DynamicJaxprTrace(level=0/1)>\nThe size argument of jnp.nonzero must be statically specified to use jnp.nonzero within JAX transformations.\nWhile tracing the function get_neighbor_pos at /tmp/ipykernel_17011/3839109848.py:1 for jit, this concrete value was not available in Python because it depends on the value of the argument passed at flattened position 1.\n\nSee https://jax.readthedocs.io/en/latest/errors.html#jax.errors.ConcretizationTypeError"
     ]
    }
   ],
   "source": [
    "# test get only neighbor agnet information. \n",
    "# this code failed\n",
    "@partial(jax.jit, static_argnames=(\"neighbor_r\"))\n",
    "# @jax.jit\n",
    "def get_neighbor_pos(pos, r, neighbor_r):\n",
    "    idx = jnp.where(r<neighbor_r)\n",
    "    print(idx)\n",
    "    neighbor_pos = jnp.take(pos, idx)\n",
    "    return neighbor_pos, idx\n",
    "\n",
    "pos = jax.random.normal(key, shape=(10,2))\n",
    "r = jax.random.normal(key, shape=(10,))\n",
    "\n",
    "get_neighbor_pos(pos,r, 0.1)"
   ]
  },
  {
   "cell_type": "code",
   "execution_count": 70,
   "metadata": {},
   "outputs": [
    {
     "name": "stdout",
     "output_type": "stream",
     "text": [
      "CPU times: user 33 µs, sys: 3 µs, total: 36 µs\n",
      "Wall time: 39.8 µs\n",
      "CPU times: user 53 µs, sys: 0 ns, total: 53 µs\n",
      "Wall time: 57.5 µs\n",
      "CPU times: user 226 µs, sys: 16 µs, total: 242 µs\n",
      "Wall time: 247 µs\n"
     ]
    },
    {
     "data": {
      "text/plain": [
       "DeviceArray([[ 0.00721349,  0.03755151],\n",
       "             [-0.08827304,  0.04782276],\n",
       "             [-0.09470108,  0.05764259],\n",
       "             [-0.06916548,  0.09070419],\n",
       "             [-0.11401487,  0.01173056]], dtype=float32)"
      ]
     },
     "execution_count": 70,
     "metadata": {},
     "output_type": "execute_result"
    }
   ],
   "source": [
    "# test code. get n closest agent position\n",
    "\n",
    "@partial(jax.jit, static_argnames=(\"n_neighbor\"))\n",
    "def get_neighbor_pos(pos, n_neighbor):\n",
    "    dist = jnp.sum(pos**2, axis=-1)\n",
    "    neighbor_index = jnp.argsort(dist)[:n_neighbor]\n",
    "    neighbor_pos = jnp.take(pos, neighbor_index, axis=0)\n",
    "    return neighbor_pos\n",
    "\n",
    "pos1 = jax.random.normal(key, shape=(10,2))\n",
    "pos2 = jax.random.normal(key, shape=(100,2))\n",
    "pos3 = jax.random.normal(key, shape=(1000,2))\n",
    "get_neighbor_pos(pos1,5)\n",
    "%time get_neighbor_pos(pos1,5)\n",
    "get_neighbor_pos(pos2,5)\n",
    "%time get_neighbor_pos(pos2,5)\n",
    "get_neighbor_pos(pos3,5)\n",
    "%time get_neighbor_pos(pos3,5)\n",
    "# この計算はそこまでボトルネックにならなさそう"
   ]
  }
 ],
 "metadata": {
  "kernelspec": {
   "display_name": "Python 3.9.10 ('.venv': venv)",
   "language": "python",
   "name": "python3"
  },
  "language_info": {
   "codemirror_mode": {
    "name": "ipython",
    "version": 3
   },
   "file_extension": ".py",
   "mimetype": "text/x-python",
   "name": "python",
   "nbconvert_exporter": "python",
   "pygments_lexer": "ipython3",
   "version": "3.9.10"
  },
  "orig_nbformat": 4,
  "vscode": {
   "interpreter": {
    "hash": "4ed474c167ef5838512e9ed5e5f8669ecfbd906a2d8a69b27b079c8cc00c81be"
   }
  }
 },
 "nbformat": 4,
 "nbformat_minor": 2
}
