{
 "cells": [
  {
   "cell_type": "code",
   "execution_count": 3,
   "metadata": {},
   "outputs": [],
   "source": [
    "import flax.linen as fnn\n",
    "import jax\n",
    "import jax.numpy as jnp"
   ]
  },
  {
   "cell_type": "code",
   "execution_count": 16,
   "metadata": {},
   "outputs": [],
   "source": [
    "class Critic(fnn.Module):\n",
    "\n",
    "    def setup(self):\n",
    "        self.n1 = fnn.Dense(10)\n",
    "        self.n2 = fnn.Dense(10)\n",
    "\n",
    "    def __call__(self,x,flag):\n",
    "        \"\"\"\n",
    "        calculate q value\n",
    "\n",
    "        Args:\n",
    "            observations (AgentObservation): NamedTuple for observation of agent. consisting of basic observations and communication\n",
    "\n",
    "        Returns:\n",
    "            Array: q value\n",
    "        \"\"\"\n",
    "        def _apply1(_,x):\n",
    "            return self.n1(x)\n",
    "        def _apply2(_,x):\n",
    "            return self.n2(x)\n",
    "        def _apply(x,flag,mdl):\n",
    "            return fnn.cond(jnp.equal(flag,1), _apply1, _apply2,mdl, x)\n",
    "        x = jax.vmap(_apply, in_axes=(0,0,None))(x,flag,self)\n",
    "\n",
    "        return x"
   ]
  },
  {
   "cell_type": "code",
   "execution_count": 17,
   "metadata": {},
   "outputs": [],
   "source": [
    "x = jnp.ones((2,5))\n",
    "flag = jnp.array([0.0,1])\n",
    "model = Critic()"
   ]
  },
  {
   "cell_type": "code",
   "execution_count": 18,
   "metadata": {},
   "outputs": [
    {
     "ename": "JaxTransformError",
     "evalue": "Jax transforms and Flax models cannot be mixed. (https://flax.readthedocs.io/en/latest/flax.errors.html#flax.errors.JaxTransformError)",
     "output_type": "error",
     "traceback": [
      "\u001b[0;31m---------------------------------------------------------------------------\u001b[0m",
      "\u001b[0;31mJaxTransformError\u001b[0m                         Traceback (most recent call last)",
      "Cell \u001b[0;32mIn [18], line 1\u001b[0m\n\u001b[0;32m----> 1\u001b[0m params \u001b[39m=\u001b[39m model\u001b[39m.\u001b[39;49minit(jax\u001b[39m.\u001b[39;49mrandom\u001b[39m.\u001b[39;49mPRNGKey(\u001b[39m0\u001b[39;49m),x,flag)[\u001b[39m\"\u001b[39m\u001b[39mparams\u001b[39m\u001b[39m\"\u001b[39m]\n",
      "    \u001b[0;31m[... skipping hidden 11 frame]\u001b[0m\n",
      "Cell \u001b[0;32mIn [16], line 23\u001b[0m, in \u001b[0;36mCritic.__call__\u001b[0;34m(self, x, flag)\u001b[0m\n\u001b[1;32m     21\u001b[0m \u001b[39mdef\u001b[39;00m \u001b[39m_apply\u001b[39m(x,flag,mdl):\n\u001b[1;32m     22\u001b[0m     \u001b[39mreturn\u001b[39;00m fnn\u001b[39m.\u001b[39mcond(jnp\u001b[39m.\u001b[39mequal(flag,\u001b[39m1\u001b[39m), _apply1, _apply2,mdl, x)\n\u001b[0;32m---> 23\u001b[0m x \u001b[39m=\u001b[39m jax\u001b[39m.\u001b[39;49mvmap(_apply, in_axes\u001b[39m=\u001b[39;49m(\u001b[39m0\u001b[39;49m,\u001b[39m0\u001b[39;49m,\u001b[39mNone\u001b[39;49;00m))(x,flag,\u001b[39mself\u001b[39;49m)\n\u001b[1;32m     25\u001b[0m \u001b[39mreturn\u001b[39;00m x\n",
      "    \u001b[0;31m[... skipping hidden 3 frame]\u001b[0m\n",
      "Cell \u001b[0;32mIn [16], line 22\u001b[0m, in \u001b[0;36mCritic.__call__.<locals>._apply\u001b[0;34m(x, flag, mdl)\u001b[0m\n\u001b[1;32m     21\u001b[0m \u001b[39mdef\u001b[39;00m \u001b[39m_apply\u001b[39m(x,flag,mdl):\n\u001b[0;32m---> 22\u001b[0m     \u001b[39mreturn\u001b[39;00m fnn\u001b[39m.\u001b[39;49mcond(jnp\u001b[39m.\u001b[39;49mequal(flag,\u001b[39m1\u001b[39;49m), _apply1, _apply2,mdl, x)\n",
      "    \u001b[0;31m[... skipping hidden 26 frame]\u001b[0m\n",
      "Cell \u001b[0;32mIn [16], line 18\u001b[0m, in \u001b[0;36mCritic.__call__.<locals>._apply1\u001b[0;34m(_, x)\u001b[0m\n\u001b[1;32m     17\u001b[0m \u001b[39mdef\u001b[39;00m \u001b[39m_apply1\u001b[39m(_,x):\n\u001b[0;32m---> 18\u001b[0m     \u001b[39mreturn\u001b[39;00m \u001b[39mself\u001b[39;49m\u001b[39m.\u001b[39;49mn1(x)\n",
      "    \u001b[0;31m[... skipping hidden 3 frame]\u001b[0m\n",
      "File \u001b[0;32m~/jaxman/.venv/lib/python3.9/site-packages/flax/linen/linear.py:183\u001b[0m, in \u001b[0;36mDense.__call__\u001b[0;34m(self, inputs)\u001b[0m\n\u001b[1;32m    174\u001b[0m \u001b[39m\"\"\"Applies a linear transformation to the inputs along the last dimension.\u001b[39;00m\n\u001b[1;32m    175\u001b[0m \n\u001b[1;32m    176\u001b[0m \u001b[39mArgs:\u001b[39;00m\n\u001b[0;32m   (...)\u001b[0m\n\u001b[1;32m    180\u001b[0m \u001b[39m  The transformed input.\u001b[39;00m\n\u001b[1;32m    181\u001b[0m \u001b[39m\"\"\"\u001b[39;00m\n\u001b[1;32m    182\u001b[0m inputs \u001b[39m=\u001b[39m jnp\u001b[39m.\u001b[39masarray(inputs, \u001b[39mself\u001b[39m\u001b[39m.\u001b[39mdtype)\n\u001b[0;32m--> 183\u001b[0m kernel \u001b[39m=\u001b[39m \u001b[39mself\u001b[39;49m\u001b[39m.\u001b[39;49mparam(\u001b[39m'\u001b[39;49m\u001b[39mkernel\u001b[39;49m\u001b[39m'\u001b[39;49m,\n\u001b[1;32m    184\u001b[0m                     \u001b[39mself\u001b[39;49m\u001b[39m.\u001b[39;49mkernel_init,\n\u001b[1;32m    185\u001b[0m                     (inputs\u001b[39m.\u001b[39;49mshape[\u001b[39m-\u001b[39;49m\u001b[39m1\u001b[39;49m], \u001b[39mself\u001b[39;49m\u001b[39m.\u001b[39;49mfeatures),\n\u001b[1;32m    186\u001b[0m                     \u001b[39mself\u001b[39;49m\u001b[39m.\u001b[39;49mparam_dtype)\n\u001b[1;32m    187\u001b[0m kernel \u001b[39m=\u001b[39m jnp\u001b[39m.\u001b[39masarray(kernel, \u001b[39mself\u001b[39m\u001b[39m.\u001b[39mdtype)\n\u001b[1;32m    188\u001b[0m y \u001b[39m=\u001b[39m lax\u001b[39m.\u001b[39mdot_general(inputs, kernel,\n\u001b[1;32m    189\u001b[0m                     (((inputs\u001b[39m.\u001b[39mndim \u001b[39m-\u001b[39m \u001b[39m1\u001b[39m,), (\u001b[39m0\u001b[39m,)), ((), ())),\n\u001b[1;32m    190\u001b[0m                     precision\u001b[39m=\u001b[39m\u001b[39mself\u001b[39m\u001b[39m.\u001b[39mprecision)\n",
      "    \u001b[0;31m[... skipping hidden 4 frame]\u001b[0m\n",
      "File \u001b[0;32m~/jaxman/.venv/lib/python3.9/site-packages/flax/core/tracers.py:36\u001b[0m, in \u001b[0;36mcheck_trace_level\u001b[0;34m(base_level)\u001b[0m\n\u001b[1;32m     34\u001b[0m level \u001b[39m=\u001b[39m trace_level(current_trace())\n\u001b[1;32m     35\u001b[0m \u001b[39mif\u001b[39;00m level \u001b[39m!=\u001b[39m base_level:\n\u001b[0;32m---> 36\u001b[0m   \u001b[39mraise\u001b[39;00m errors\u001b[39m.\u001b[39mJaxTransformError()\n",
      "\u001b[0;31mJaxTransformError\u001b[0m: Jax transforms and Flax models cannot be mixed. (https://flax.readthedocs.io/en/latest/flax.errors.html#flax.errors.JaxTransformError)"
     ]
    }
   ],
   "source": [
    "params = model.init(jax.random.PRNGKey(0),x,flag)[\"params\"]"
   ]
  },
  {
   "cell_type": "code",
   "execution_count": 9,
   "metadata": {},
   "outputs": [
    {
     "ename": "UnexpectedTracerError",
     "evalue": "Encountered an unexpected tracer. A function transformed by JAX had a side effect, allowing for a reference to an intermediate value with shape (5, 10) and dtype float32 to escape.\nJAX transformations require that functions explicitly return their outputs, and disallow saving intermediate values to global state.\nTo catch the leak earlier, try setting the environment variable JAX_CHECK_TRACER_LEAKS or using the `jax.checking_leaks` context manager.Detail: Different traces at same level: Traced<ShapedArray(float32[5,10])>with<BatchTrace(level=1/0)> with\n  val = DeviceArray([[[-0.10984159, -0.8885538 , -0.38159436, -0.69824165,\n                0.02169505, -0.6173719 , -0.480812  ,  0.31227043,\n                0.5641242 , -0.29054263],\n              [ 0.37325472,  0.25778595, -0.46811652, -0.6306121 ,\n               -0.03621585, -0.19614427, -0.68257594, -0.4313423 ,\n                0.66488945,  0.0259968 ],\n              [ 0.70098555, -0.24303025, -0.5435464 ,  0.45163134,\n               -0.61545366, -0.87916017,  0.23073304, -0.45766723,\n               -0.5691153 ,  0.01959895],\n              [-0.4425222 ,  0.197626  , -0.38498607, -0.11941919,\n               -0.47101495, -0.3486825 ,  0.4246657 , -0.47375134,\n               -0.12202236, -0.01648105],\n              [ 0.03113981, -0.5770143 ,  0.49676496,  0.06181936,\n               -0.00378563,  0.15002693,  0.6118677 , -0.44530916,\n               -0.36172342,  0.8598742 ]],\n\n             [[ 0.9689606 , -0.05615621, -0.37027085,  0.16737263,\n                0.44501638, -0.11291646, -0.16205199,  0.24171662,\n                0.9344057 , -0.19393963],\n              [-0.64727736, -0.13784748,  0.30459177,  0.25520203,\n               -0.02740723,  0.41862914,  0.45769292,  0.4407818 ,\n                0.22852482, -0.01847812],\n              [-0.3740167 , -0.5820307 , -0.3480936 , -0.19461459,\n                0.12109339,  0.27900177, -0.5891851 , -0.69439876,\n               -0.44855183, -0.01009424],\n              [-0.27516037, -0.6066869 , -0.39312106,  0.07686035,\n                0.22501104,  0.50199604, -0.63272107,  0.1159861 ,\n                0.314059  , -0.0626301 ],\n              [-0.84996194, -0.6796692 ,  0.062919  , -0.5273469 ,\n               -0.9786115 , -0.7293429 , -0.20205098,  0.48452863,\n               -0.640537  , -0.14128755]]], dtype=float32)\n  batch_dim = 0, BatchTrace(level=1/0)\nSee https://jax.readthedocs.io/en/latest/errors.html#jax.errors.UnexpectedTracerError",
     "output_type": "error",
     "traceback": [
      "\u001b[0;31m---------------------------------------------------------------------------\u001b[0m",
      "\u001b[0;31mUnexpectedTracerError\u001b[0m                     Traceback (most recent call last)",
      "Cell \u001b[0;32mIn [9], line 1\u001b[0m\n\u001b[0;32m----> 1\u001b[0m model\u001b[39m.\u001b[39;49mapply({\u001b[39m\"\u001b[39;49m\u001b[39mparams\u001b[39;49m\u001b[39m\"\u001b[39;49m:params}, x,flag)\n",
      "    \u001b[0;31m[... skipping hidden 7 frame]\u001b[0m\n",
      "Cell \u001b[0;32mIn [4], line 20\u001b[0m, in \u001b[0;36mCritic.__call__\u001b[0;34m(self, x, flag)\u001b[0m\n\u001b[1;32m     18\u001b[0m \u001b[39mdef\u001b[39;00m \u001b[39m_apply\u001b[39m(x,flag,mdl):\n\u001b[1;32m     19\u001b[0m     \u001b[39mreturn\u001b[39;00m fnn\u001b[39m.\u001b[39mcond(jnp\u001b[39m.\u001b[39mequal(flag,\u001b[39m1\u001b[39m), _apply1, _apply2,mdl, x)\n\u001b[0;32m---> 20\u001b[0m x \u001b[39m=\u001b[39m jax\u001b[39m.\u001b[39;49mvmap(_apply, in_axes\u001b[39m=\u001b[39;49m(\u001b[39m0\u001b[39;49m,\u001b[39m0\u001b[39;49m,\u001b[39mNone\u001b[39;49;00m))(x,flag,\u001b[39mself\u001b[39;49m)\n\u001b[1;32m     22\u001b[0m \u001b[39mreturn\u001b[39;00m x\n",
      "    \u001b[0;31m[... skipping hidden 3 frame]\u001b[0m\n",
      "Cell \u001b[0;32mIn [4], line 19\u001b[0m, in \u001b[0;36mCritic.__call__.<locals>._apply\u001b[0;34m(x, flag, mdl)\u001b[0m\n\u001b[1;32m     18\u001b[0m \u001b[39mdef\u001b[39;00m \u001b[39m_apply\u001b[39m(x,flag,mdl):\n\u001b[0;32m---> 19\u001b[0m     \u001b[39mreturn\u001b[39;00m fnn\u001b[39m.\u001b[39;49mcond(jnp\u001b[39m.\u001b[39;49mequal(flag,\u001b[39m1\u001b[39;49m), _apply1, _apply2,mdl, x)\n",
      "    \u001b[0;31m[... skipping hidden 14 frame]\u001b[0m\n",
      "File \u001b[0;32m~/jaxman/.venv/lib/python3.9/site-packages/jax/core.py:436\u001b[0m, in \u001b[0;36mTrace.full_raise\u001b[0;34m(self, val)\u001b[0m\n\u001b[1;32m    433\u001b[0m   \u001b[39mraise\u001b[39;00m escaped_tracer_error(\n\u001b[1;32m    434\u001b[0m       val, \u001b[39mf\u001b[39m\u001b[39m\"\u001b[39m\u001b[39mCan\u001b[39m\u001b[39m'\u001b[39m\u001b[39mt lift level \u001b[39m\u001b[39m{\u001b[39;00mval\u001b[39m}\u001b[39;00m\u001b[39m to \u001b[39m\u001b[39m{\u001b[39;00m\u001b[39mself\u001b[39m\u001b[39m}\u001b[39;00m\u001b[39m\"\u001b[39m)\n\u001b[1;32m    435\u001b[0m \u001b[39melse\u001b[39;00m:  \u001b[39m# val._trace.level == self.level:\u001b[39;00m\n\u001b[0;32m--> 436\u001b[0m   \u001b[39mraise\u001b[39;00m escaped_tracer_error(\n\u001b[1;32m    437\u001b[0m       val, \u001b[39mf\u001b[39m\u001b[39m\"\u001b[39m\u001b[39mDifferent traces at same level: \u001b[39m\u001b[39m{\u001b[39;00mval\u001b[39m}\u001b[39;00m\u001b[39m, \u001b[39m\u001b[39m{\u001b[39;00m\u001b[39mself\u001b[39m\u001b[39m}\u001b[39;00m\u001b[39m\"\u001b[39m)\n",
      "\u001b[0;31mUnexpectedTracerError\u001b[0m: Encountered an unexpected tracer. A function transformed by JAX had a side effect, allowing for a reference to an intermediate value with shape (5, 10) and dtype float32 to escape.\nJAX transformations require that functions explicitly return their outputs, and disallow saving intermediate values to global state.\nTo catch the leak earlier, try setting the environment variable JAX_CHECK_TRACER_LEAKS or using the `jax.checking_leaks` context manager.Detail: Different traces at same level: Traced<ShapedArray(float32[5,10])>with<BatchTrace(level=1/0)> with\n  val = DeviceArray([[[-0.10984159, -0.8885538 , -0.38159436, -0.69824165,\n                0.02169505, -0.6173719 , -0.480812  ,  0.31227043,\n                0.5641242 , -0.29054263],\n              [ 0.37325472,  0.25778595, -0.46811652, -0.6306121 ,\n               -0.03621585, -0.19614427, -0.68257594, -0.4313423 ,\n                0.66488945,  0.0259968 ],\n              [ 0.70098555, -0.24303025, -0.5435464 ,  0.45163134,\n               -0.61545366, -0.87916017,  0.23073304, -0.45766723,\n               -0.5691153 ,  0.01959895],\n              [-0.4425222 ,  0.197626  , -0.38498607, -0.11941919,\n               -0.47101495, -0.3486825 ,  0.4246657 , -0.47375134,\n               -0.12202236, -0.01648105],\n              [ 0.03113981, -0.5770143 ,  0.49676496,  0.06181936,\n               -0.00378563,  0.15002693,  0.6118677 , -0.44530916,\n               -0.36172342,  0.8598742 ]],\n\n             [[ 0.9689606 , -0.05615621, -0.37027085,  0.16737263,\n                0.44501638, -0.11291646, -0.16205199,  0.24171662,\n                0.9344057 , -0.19393963],\n              [-0.64727736, -0.13784748,  0.30459177,  0.25520203,\n               -0.02740723,  0.41862914,  0.45769292,  0.4407818 ,\n                0.22852482, -0.01847812],\n              [-0.3740167 , -0.5820307 , -0.3480936 , -0.19461459,\n                0.12109339,  0.27900177, -0.5891851 , -0.69439876,\n               -0.44855183, -0.01009424],\n              [-0.27516037, -0.6066869 , -0.39312106,  0.07686035,\n                0.22501104,  0.50199604, -0.63272107,  0.1159861 ,\n                0.314059  , -0.0626301 ],\n              [-0.84996194, -0.6796692 ,  0.062919  , -0.5273469 ,\n               -0.9786115 , -0.7293429 , -0.20205098,  0.48452863,\n               -0.640537  , -0.14128755]]], dtype=float32)\n  batch_dim = 0, BatchTrace(level=1/0)\nSee https://jax.readthedocs.io/en/latest/errors.html#jax.errors.UnexpectedTracerError"
     ]
    }
   ],
   "source": [
    "model.apply({\"params\":params}, x,flag)"
   ]
  },
  {
   "cell_type": "code",
   "execution_count": null,
   "metadata": {},
   "outputs": [],
   "source": []
  }
 ],
 "metadata": {
  "kernelspec": {
   "display_name": ".venv",
   "language": "python",
   "name": "python3"
  },
  "language_info": {
   "codemirror_mode": {
    "name": "ipython",
    "version": 3
   },
   "file_extension": ".py",
   "mimetype": "text/x-python",
   "name": "python",
   "nbconvert_exporter": "python",
   "pygments_lexer": "ipython3",
   "version": "3.9.10"
  },
  "orig_nbformat": 4,
  "vscode": {
   "interpreter": {
    "hash": "4ed474c167ef5838512e9ed5e5f8669ecfbd906a2d8a69b27b079c8cc00c81be"
   }
  }
 },
 "nbformat": 4,
 "nbformat_minor": 2
}
