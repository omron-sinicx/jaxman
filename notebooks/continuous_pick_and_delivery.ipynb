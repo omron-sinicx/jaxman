{
 "cells": [
  {
   "cell_type": "code",
   "execution_count": 1,
   "metadata": {},
   "outputs": [
    {
     "name": "stderr",
     "output_type": "stream",
     "text": [
      "WARNING:absl:No GPU/TPU found, falling back to CPU. (Set TF_CPP_MIN_LOG_LEVEL=0 and rerun for more info.)\n",
      "2023-03-28 09:31:42.321603: W tensorflow/stream_executor/platform/default/dso_loader.cc:64] Could not load dynamic library 'libcudart.so.11.0'; dlerror: libcudart.so.11.0: cannot open shared object file: No such file or directory; LD_LIBRARY_PATH: /home/asano/jaxman/.venv/lib/python3.9/site-packages/cv2/../../lib64:/usr/local/cuda/lib64:\n",
      "2023-03-28 09:31:42.351287: E tensorflow/stream_executor/cuda/cuda_blas.cc:2981] Unable to register cuBLAS factory: Attempting to register factory for plugin cuBLAS when one has already been registered\n",
      "2023-03-28 09:31:42.964786: W tensorflow/stream_executor/platform/default/dso_loader.cc:64] Could not load dynamic library 'libnvinfer.so.7'; dlerror: libnvinfer.so.7: cannot open shared object file: No such file or directory; LD_LIBRARY_PATH: /home/asano/jaxman/.venv/lib/python3.9/site-packages/cv2/../../lib64:/usr/local/cuda/lib64:\n",
      "2023-03-28 09:31:42.964882: W tensorflow/stream_executor/platform/default/dso_loader.cc:64] Could not load dynamic library 'libnvinfer_plugin.so.7'; dlerror: libnvinfer_plugin.so.7: cannot open shared object file: No such file or directory; LD_LIBRARY_PATH: /home/asano/jaxman/.venv/lib/python3.9/site-packages/cv2/../../lib64:/usr/local/cuda/lib64:\n",
      "2023-03-28 09:31:42.964892: W tensorflow/compiler/tf2tensorrt/utils/py_utils.cc:38] TF-TRT Warning: Cannot dlopen some TensorRT libraries. If you would like to use Nvidia GPU with TensorRT, please make sure the missing libraries mentioned above are installed properly.\n"
     ]
    }
   ],
   "source": [
    "import hydra\n",
    "import jax.numpy as jnp\n",
    "import matplotlib.pyplot as plt\n",
    "import jax\n",
    "from omegaconf import OmegaConf\n",
    "from jaxman.env.pick_and_delivery.env import JaxPandDEnv\n",
    "from jaxman.utils import compute_agent_action\n",
    "from jaxman.utils import compute_agent_action\n",
    "from jaxman.planner.rl_planner.agent.dqn.dqn import create_dqn_agent\n",
    "from jaxman.planner.rl_planner.agent.core import create_agent\n",
    "from jaxman.planner.rl_planner.rollout.rollout import _build_rollout_episode\n",
    "from flax.training import checkpoints\n",
    "config = hydra.utils.instantiate(OmegaConf.load(\"../scripts/config/env/pick_and_delivery/continuous.yaml\"))\n",
    "model_config = hydra.utils.instantiate(OmegaConf.load(\"../scripts/config/model/sac.yaml\"))\n",
    "config.level=1\n",
    "config.map_size=150\n",
    "config.num_agents=5\n",
    "config.num_items=5\n",
    "config.dist_reward=0.05\n",
    "config.is_discrete=False\n",
    "config.is_decay_reward=False\n",
    "config.is_biased_sample=True\n",
    "config.use_hold_item_info=True\n",
    "config.timeout=1\n",
    "env = JaxPandDEnv(config)\n",
    "key = jax.random.PRNGKey(0)"
   ]
  },
  {
   "cell_type": "code",
   "execution_count": 21,
   "metadata": {},
   "outputs": [
    {
     "name": "stderr",
     "output_type": "stream",
     "text": [
      "/home/asano/jaxman/.venv/lib/python3.9/site-packages/jax/_src/tree_util.py:188: FutureWarning: jax.tree_util.tree_multimap() is deprecated. Please use jax.tree_util.tree_map() instead as a drop-in replacement.\n",
      "  warnings.warn('jax.tree_util.tree_multimap() is deprecated. Please use jax.tree_util.tree_map() '\n"
     ]
    }
   ],
   "source": [
    "observation_space = env.observation_space\n",
    "action_space = env.action_space\n",
    "key = jax.random.PRNGKey(0)\n",
    "agent, key = create_agent(\n",
    "    observation_space,\n",
    "    action_space,\n",
    "    model_config,\n",
    "    key,\n",
    ")\n",
    "_rollout_fn = _build_rollout_episode(\n",
    "    env.instance, agent.actor.apply_fn, evaluate=False, model_config=model_config\n",
    ")"
   ]
  },
  {
   "cell_type": "code",
   "execution_count": 22,
   "metadata": {},
   "outputs": [
    {
     "name": "stderr",
     "output_type": "stream",
     "text": [
      "WARNING:root:The use of `check_types` is deprecated and does not have any effect.\n",
      "WARNING:root:The use of `check_types` is deprecated and does not have any effect.\n",
      "WARNING:root:The use of `check_types` is deprecated and does not have any effect.\n",
      "WARNING:root:The use of `check_types` is deprecated and does not have any effect.\n",
      "WARNING:root:The use of `check_types` is deprecated and does not have any effect.\n",
      "WARNING:root:The use of `check_types` is deprecated and does not have any effect.\n",
      "WARNING:root:The use of `check_types` is deprecated and does not have any effect.\n",
      "WARNING:root:The use of `check_types` is deprecated and does not have any effect.\n",
      "WARNING:root:The use of `check_types` is deprecated and does not have any effect.\n",
      "WARNING:root:The use of `check_types` is deprecated and does not have any effect.\n",
      "WARNING:root:The use of `check_types` is deprecated and does not have any effect.\n",
      "WARNING:root:The use of `check_types` is deprecated and does not have any effect.\n",
      "WARNING:root:The use of `check_types` is deprecated and does not have any effect.\n",
      "WARNING:root:The use of `check_types` is deprecated and does not have any effect.\n",
      "WARNING:root:The use of `check_types` is deprecated and does not have any effect.\n",
      "WARNING:root:The use of `check_types` is deprecated and does not have any effect.\n",
      "WARNING:root:The use of `check_types` is deprecated and does not have any effect.\n",
      "WARNING:root:The use of `check_types` is deprecated and does not have any effect.\n",
      "WARNING:root:The use of `check_types` is deprecated and does not have any effect.\n",
      "WARNING:root:The use of `check_types` is deprecated and does not have any effect.\n"
     ]
    }
   ],
   "source": [
    "carry = _rollout_fn(jax.random.PRNGKey(0), agent.actor.params, env.instance.obs, False)"
   ]
  },
  {
   "cell_type": "code",
   "execution_count": 29,
   "metadata": {},
   "outputs": [],
   "source": [
    "actions = jnp.array([[1.0,1.0,0]])\n",
    "obs, rew, info, done = env.step(actions)"
   ]
  },
  {
   "cell_type": "code",
   "execution_count": 2,
   "metadata": {},
   "outputs": [],
   "source": [
    "obs = env.reset()\n",
    "# print(env.task_info.item_starts)\n",
    "is_item_loaded = jnp.expand_dims(jnp.arange(env.num_items) < env.num_agents, -1)\n",
    "item_pos = env.task_info.item_starts + is_item_loaded * 1000\n",
    "env.state = env.state._replace(load_item_id = jnp.arange(env.num_agents,), item_pos = item_pos)"
   ]
  },
  {
   "cell_type": "code",
   "execution_count": 4,
   "metadata": {},
   "outputs": [
    {
     "name": "stdout",
     "output_type": "stream",
     "text": [
      "[0.] [[0.43638533 0.4005066 ]]\n",
      "[0.] [[0.4459705  0.39765626]]\n",
      "[0.] [[0.45538077 0.39427295]]\n",
      "[0.] [[0.46435305 0.38985732]]\n",
      "[0.] [[0.47306365 0.38494554]]\n"
     ]
    },
    {
     "data": {
      "image/png": "[encoded data removed]",
      "text/plain": [
       "<Figure size 1500x300 with 5 Axes>"
      ]
     },
     "metadata": {},
     "output_type": "display_data"
    }
   ],
   "source": [
    "fig, axes = plt.subplots(1,5, figsize=(15,3))\n",
    "for i in range(5):\n",
    "    actions = jnp.concatenate((obs.planner_act, jnp.array([[-1]])),axis=1)\n",
    "    obs, rew, done, info = env.step(actions)\n",
    "    axes[i].imshow(env.render())\n",
    "    print(rew, env.state.agent_state.pos)"
   ]
  },
  {
   "cell_type": "code",
   "execution_count": 5,
   "metadata": {},
   "outputs": [
    {
     "name": "stdout",
     "output_type": "stream",
     "text": [
      "[0.01887928]\n",
      "[[0.42951068 0.4095044 ]\n",
      " [0.14173023 0.27933216]\n",
      " [0.3961167  0.29305947]\n",
      " [0.3162247  0.50957674]\n",
      " [0.6506388  0.16458122]]\n"
     ]
    },
    {
     "data": {
      "text/plain": [
       "<matplotlib.image.AxesImage at 0x7f10c146a3d0>"
      ]
     },
     "execution_count": 5,
     "metadata": {},
     "output_type": "execute_result"
    },
    {
     "data": {
      "image/png": "[encoded data removed]",
      "text/plain": [
       "<Figure size 640x480 with 1 Axes>"
      ]
     },
     "metadata": {},
     "output_type": "display_data"
    }
   ],
   "source": [
    "obs, rew, done, info = env.step(jnp.array([[0,0,1]]))\n",
    "print(rew)\n",
    "print(env.task_info.item_starts)\n",
    "plt.imshow(env.render())"
   ]
  },
  {
   "cell_type": "code",
   "execution_count": 2,
   "metadata": {},
   "outputs": [],
   "source": [
    "import jax\n",
    "from jaxman.planner.rl_planner.agent.model.continuous_model import PandDDoubleCritic"
   ]
  },
  {
   "cell_type": "code",
   "execution_count": 4,
   "metadata": {},
   "outputs": [
    {
     "name": "stdout",
     "output_type": "stream",
     "text": [
      "[[[-0.4651546  -0.08168128]\n",
      "  [-0.4775101  -0.15263213]\n",
      "  [-0.47613388 -0.1872753 ]\n",
      "  [-0.46765012 -0.20204313]\n",
      "  [-0.4665933  -0.10841294]]\n",
      "\n",
      " [[ 0.9565174  -1.159926  ]\n",
      "  [ 0.89871734 -1.114136  ]\n",
      "  [ 0.96520716 -1.3296021 ]\n",
      "  [ 0.9004991  -1.2359104 ]\n",
      "  [ 0.96909624 -1.1668161 ]]]\n",
      "[[[-0.01390487]\n",
      "  [ 0.00349348]\n",
      "  [ 0.02184999]\n",
      "  [ 0.02847132]\n",
      "  [-0.00211426]]\n",
      "\n",
      " [[-0.41449854]\n",
      "  [-0.42842752]\n",
      "  [-0.3669318 ]\n",
      "  [-0.4109067 ]\n",
      "  [-0.4167949 ]]]\n"
     ]
    },
    {
     "name": "stderr",
     "output_type": "stream",
     "text": [
      "/home/asano/jaxman/.venv/lib/python3.9/site-packages/jax/_src/tree_util.py:188: FutureWarning: jax.tree_util.tree_multimap() is deprecated. Please use jax.tree_util.tree_map() instead as a drop-in replacement.\n",
      "  warnings.warn('jax.tree_util.tree_multimap() is deprecated. Please use jax.tree_util.tree_map() '\n"
     ]
    }
   ],
   "source": [
    "obs = env.obs.split_observation()\n",
    "actor_fn = PandDDoubleCritic(10, 10)\n",
    "actions = jnp.array([[1,1,1],[1,1,1],[1,1,1],[1,1,1],[1,1,1],])\n",
    "params = actor_fn.init(jax.random.PRNGKey(0), obs, actions)[\"params\"]"
   ]
  },
  {
   "cell_type": "code",
   "execution_count": 6,
   "metadata": {},
   "outputs": [
    {
     "name": "stdout",
     "output_type": "stream",
     "text": [
      "[[[-0.4651546  -0.08168128]\n",
      "  [-0.4775101  -0.15263213]\n",
      "  [-0.47613388 -0.1872753 ]\n",
      "  [-0.46765012 -0.20204313]\n",
      "  [-0.4665933  -0.10841294]]\n",
      "\n",
      " [[ 0.9565174  -1.159926  ]\n",
      "  [ 0.89871734 -1.114136  ]\n",
      "  [ 0.96520716 -1.3296021 ]\n",
      "  [ 0.9004991  -1.2359104 ]\n",
      "  [ 0.96909624 -1.1668161 ]]]\n",
      "[[[-0.01390487]\n",
      "  [ 0.00349348]\n",
      "  [ 0.02184999]\n",
      "  [ 0.02847132]\n",
      "  [-0.00211426]]\n",
      "\n",
      " [[-0.41449854]\n",
      "  [-0.42842752]\n",
      "  [-0.3669318 ]\n",
      "  [-0.4109067 ]\n",
      "  [-0.4167949 ]]]\n"
     ]
    }
   ],
   "source": [
    "dis_q1, dis_q2, cont_q1, cont_q2=actor_fn.apply({\"params\":params}, obs, actions)"
   ]
  }
 ],
 "metadata": {
  "kernelspec": {
   "display_name": ".venv",
   "language": "python",
   "name": "python3"
  },
  "language_info": {
   "codemirror_mode": {
    "name": "ipython",
    "version": 3
   },
   "file_extension": ".py",
   "mimetype": "text/x-python",
   "name": "python",
   "nbconvert_exporter": "python",
   "pygments_lexer": "ipython3",
   "version": "3.9.10"
  },
  "orig_nbformat": 4,
  "vscode": {
   "interpreter": {
    "hash": "4ed474c167ef5838512e9ed5e5f8669ecfbd906a2d8a69b27b079c8cc00c81be"
   }
  }
 },
 "nbformat": 4,
 "nbformat_minor": 2
}
