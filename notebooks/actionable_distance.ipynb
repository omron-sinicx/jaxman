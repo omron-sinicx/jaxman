{
 "cells": [
  {
   "cell_type": "code",
   "execution_count": 1,
   "metadata": {},
   "outputs": [
    {
     "name": "stderr",
     "output_type": "stream",
     "text": [
      "WARNING:absl:No GPU/TPU found, falling back to CPU. (Set TF_CPP_MIN_LOG_LEVEL=0 and rerun for more info.)\n",
      "2023-03-16 17:23:32.525814: W tensorflow/stream_executor/platform/default/dso_loader.cc:64] Could not load dynamic library 'libcudart.so.11.0'; dlerror: libcudart.so.11.0: cannot open shared object file: No such file or directory; LD_LIBRARY_PATH: /home/asano/jaxman/.venv/lib/python3.9/site-packages/cv2/../../lib64:/usr/local/cuda/lib64:\n",
      "2023-03-16 17:23:32.558214: E tensorflow/stream_executor/cuda/cuda_blas.cc:2981] Unable to register cuBLAS factory: Attempting to register factory for plugin cuBLAS when one has already been registered\n",
      "2023-03-16 17:23:33.387577: W tensorflow/stream_executor/platform/default/dso_loader.cc:64] Could not load dynamic library 'libnvinfer.so.7'; dlerror: libnvinfer.so.7: cannot open shared object file: No such file or directory; LD_LIBRARY_PATH: /home/asano/jaxman/.venv/lib/python3.9/site-packages/cv2/../../lib64:/usr/local/cuda/lib64:\n",
      "2023-03-16 17:23:33.387701: W tensorflow/stream_executor/platform/default/dso_loader.cc:64] Could not load dynamic library 'libnvinfer_plugin.so.7'; dlerror: libnvinfer_plugin.so.7: cannot open shared object file: No such file or directory; LD_LIBRARY_PATH: /home/asano/jaxman/.venv/lib/python3.9/site-packages/cv2/../../lib64:/usr/local/cuda/lib64:\n",
      "2023-03-16 17:23:33.387711: W tensorflow/compiler/tf2tensorrt/utils/py_utils.cc:38] TF-TRT Warning: Cannot dlopen some TensorRT libraries. If you would like to use Nvidia GPU with TensorRT, please make sure the missing libraries mentioned above are installed properly.\n"
     ]
    }
   ],
   "source": [
    "import jax\n",
    "import numpy as np\n",
    "import jax.numpy as jnp\n",
    "import hydra\n",
    "import ray\n",
    "from omegaconf import OmegaConf\n",
    "from jaxman.env.navigation.env import JaxMANEnv\n",
    "from jaxman.env.pick_and_delivery.env import JaxPandDEnv\n",
    "from jaxman.planner.rl_planner.agent.core import create_agent, restore_agent\n",
    "from jaxman.planner.rl_planner.rollout.pick_and_delivery.rollout import build_rollout_episode\n",
    "from jaxman.planner.rl_planner.worker import GlobalBuffer\n",
    "from typing import NamedTuple, Any\n",
    "import matplotlib.pyplot as plt\n",
    "env_config = hydra.utils.instantiate(\n",
    "    OmegaConf.load(\"../scripts/config/env/pick_and_delivery/grid.yaml\")\n",
    ")\n",
    "model_config = hydra.utils.instantiate(\n",
    "    OmegaConf.load(\"../scripts/config/model/dqn.yaml\")\n",
    ")\n",
    "train_config = hydra.utils.instantiate(\n",
    "    OmegaConf.load(\"../scripts/config/train/sac.yaml\")\n",
    ")\n",
    "env_config.obs_type=\"room\"\n",
    "env_config.level=1\n",
    "\n",
    "from hydra import initialize, compose\n",
    "from omegaconf import OmegaConf\n",
    "\n",
    "with initialize(version_base=None, config_path=\"../scripts/config\"):\n",
    "    cfg = compose(config_name='train_rl.yaml')\n",
    "cfg.train.batch_size=1000"
   ]
  },
  {
   "cell_type": "code",
   "execution_count": 2,
   "metadata": {},
   "outputs": [
    {
     "name": "stderr",
     "output_type": "stream",
     "text": [
      "2023-03-16 17:23:42,922\tINFO worker.py:1528 -- Started a local Ray instance.\n",
      "\u001b[2m\u001b[36m(GlobalBuffer pid=29846)\u001b[0m WARNING:absl:No GPU/TPU found, falling back to CPU. (Set TF_CPP_MIN_LOG_LEVEL=0 and rerun for more info.)\n"
     ]
    },
    {
     "data": {
      "text/plain": [
       "<matplotlib.image.AxesImage at 0x7f6b31c850d0>"
      ]
     },
     "execution_count": 2,
     "metadata": {},
     "output_type": "execute_result"
    },
    {
     "data": {
      "image/png": "[encoded data removed]",
      "text/plain": [
       "<Figure size 640x480 with 1 Axes>"
      ]
     },
     "metadata": {},
     "output_type": "display_data"
    }
   ],
   "source": [
    "env = JaxPandDEnv(env_config, 0)\n",
    "observation_space = env.observation_space\n",
    "action_space = env.action_space\n",
    "key = jax.random.PRNGKey(0)\n",
    "buffer = GlobalBuffer.remote(observation_space, action_space, cfg)\n",
    "agent, key = create_agent(observation_space,action_space,model_config,key)\n",
    "agent = restore_agent(agent,True,False,model_config,\"../jaxman/model/pick_and_delivery_random/\",)\n",
    "plt.imshow(env.render())"
   ]
  },
  {
   "cell_type": "code",
   "execution_count": 3,
   "metadata": {},
   "outputs": [
    {
     "name": "stdout",
     "output_type": "stream",
     "text": [
      "[[8 7]]\n"
     ]
    },
    {
     "data": {
      "image/png": "[encoded data removed]",
      "text/plain": [
       "<Figure size 640x480 with 1 Axes>"
      ]
     },
     "metadata": {},
     "output_type": "display_data"
    }
   ],
   "source": [
    "from jaxman.utils import compute_agent_action\n",
    "# actions = jnp.array([5,0], dtype=int)\n",
    "actions = compute_agent_action([\"LEFT\"])\n",
    "obs, rew, done, trial_info = env.step(actions)\n",
    "# print(f\"rew:{rew}, act:{actions}, done:{done},\")\n",
    "plt.imshow(env.render())\n",
    "print(env.state.agent_state.pos)"
   ]
  },
  {
   "cell_type": "code",
   "execution_count": 6,
   "metadata": {},
   "outputs": [],
   "source": [
    "rollout_fn = build_rollout_episode(\n",
    "    env.instance, agent.actor.apply_fn, evaluate=False, model_config=model_config\n",
    ")\n",
    "for i in range(10):\n",
    "    key, subkey = jax.random.split(key)\n",
    "    carry = rollout_fn(subkey, agent.actor.params, env.instance.obs)\n",
    "    experience = carry.experience\n",
    "    buffer.add.remote(experience)"
   ]
  },
  {
   "cell_type": "code",
   "execution_count": 7,
   "metadata": {},
   "outputs": [],
   "source": [
    "original_obs = ray.get(ray.get(buffer.get_batched_data.remote())).observations"
   ]
  },
  {
   "cell_type": "code",
   "execution_count": 8,
   "metadata": {},
   "outputs": [],
   "source": [
    "original_obs.base_observation[:,-4:]=np.array([1,0,8,2])\n",
    "base_q = agent.actor.apply_fn({\"params\":agent.actor.params},original_obs)\n",
    "\n",
    "def compute_actionable_dist(q1, q2):\n",
    "    def _compute_dist(q1,q2):\n",
    "        return 1 - jnp.dot(q1,q2)/jnp.linalg.norm(q1)/jnp.linalg.norm(q2)\n",
    "    dists = jax.vmap(_compute_dist)(q1,q2)\n",
    "    return jnp.mean(dists)\n",
    "dists = np.zeros((15,15))\n",
    "for i in range(15*15):\n",
    "    goals = jnp.array([i%15,int(i/15)])\n",
    "    original_obs.base_observation[:,-4:]=np.array([1,0,i%15,int(i/15)])\n",
    "    q = agent.actor.apply_fn({\"params\":agent.actor.params},original_obs)\n",
    "    dist = compute_actionable_dist(base_q, q)\n",
    "    dists[i%15,int(i/15)] = dist"
   ]
  },
  {
   "cell_type": "code",
   "execution_count": 14,
   "metadata": {},
   "outputs": [
    {
     "data": {
      "text/plain": [
       "<matplotlib.image.AxesImage at 0x7f649cd469d0>"
      ]
     },
     "execution_count": 14,
     "metadata": {},
     "output_type": "execute_result"
    },
    {
     "data": {
      "image/png": "[encoded data removed]",
      "text/plain": [
       "<Figure size 640x480 with 2 Axes>"
      ]
     },
     "metadata": {},
     "output_type": "display_data"
    }
   ],
   "source": [
    "import matplotlib.cm as cm\n",
    "fig, axes = plt.subplots(1,2)\n",
    "dists = np.array(dists).reshape(15,15)\n",
    "occupancy = env.task_info.obs.occupancy\n",
    "dists = dists * (1 - occupancy) + occupancy\n",
    "axes[0].imshow(dists.T, cmap=\"jet\")\n",
    "axes[1].imshow(1-occupancy.at[8,2].set(1).T, cmap=\"gray\")"
   ]
  },
  {
   "cell_type": "code",
   "execution_count": null,
   "metadata": {},
   "outputs": [],
   "source": []
  }
 ],
 "metadata": {
  "kernelspec": {
   "display_name": ".venv",
   "language": "python",
   "name": "python3"
  },
  "language_info": {
   "codemirror_mode": {
    "name": "ipython",
    "version": 3
   },
   "file_extension": ".py",
   "mimetype": "text/x-python",
   "name": "python",
   "nbconvert_exporter": "python",
   "pygments_lexer": "ipython3",
   "version": "3.9.10"
  },
  "orig_nbformat": 4
 },
 "nbformat": 4,
 "nbformat_minor": 2
}
