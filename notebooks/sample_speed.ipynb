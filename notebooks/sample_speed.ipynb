{
 "cells": [
  {
   "cell_type": "code",
   "execution_count": 14,
   "metadata": {},
   "outputs": [],
   "source": [
    "import hydra\n",
    "import jax.numpy as jnp\n",
    "import matplotlib.pyplot as plt\n",
    "import numpy as np\n",
    "from cpprb import ReplayBuffer\n",
    "from jaxman.env.env import JaxMANEnv\n",
    "from jaxman.planner.rl_planner.memory.cpprb_utils import (\n",
    "    _sample_experience as cpp_sample,\n",
    ")\n",
    "from jaxman.planner.rl_planner.memory.dataset import Buffer\n",
    "from jaxman.planner.rl_planner.memory.utils import _sample_experience as original_sample\n",
    "from jaxman.utils import compute_agent_action\n",
    "from omegaconf import OmegaConf\n",
    "\n",
    "\n",
    "config = hydra.utils.instantiate(OmegaConf.load(\"../scripts/config/env/continuous.yaml\"))\n",
    "env = JaxMANEnv(config)"
   ]
  },
  {
   "cell_type": "code",
   "execution_count": 15,
   "metadata": {},
   "outputs": [],
   "source": [
    "# initialized original buffer\n",
    "original_buffer = Buffer(env.observation_space, env.action_space, 1000000)\n",
    "original_buffer.size=10000"
   ]
  },
  {
   "cell_type": "code",
   "execution_count": 17,
   "metadata": {},
   "outputs": [
    {
     "data": {
      "text/plain": [
       "0"
      ]
     },
     "execution_count": 17,
     "metadata": {},
     "output_type": "execute_result"
    }
   ],
   "source": [
    "# initialized cpp buffer\n",
    "obs_dim = env.observation_space[\"obs\"].shape[0]\n",
    "num_agents = env.observation_space[\"comm\"].shape[0]\n",
    "comm_dim = env.observation_space[\"comm\"].shape[1]\n",
    "mask_dim = env.observation_space[\"mask\"].shape[0]\n",
    "total_obs_dim = obs_dim + num_agents * comm_dim + mask_dim\n",
    "act_dim = 2\n",
    "\n",
    "env_dict = {\n",
    "            \"obs\": {\"shape\": total_obs_dim},\n",
    "            \"act\": {\"shape\": act_dim},\n",
    "            \"reward\": {},\n",
    "            \"next_obs\": {\"shape\": total_obs_dim},\n",
    "            \"mask\": {},\n",
    "        }\n",
    "cpp_buffer = ReplayBuffer(1000000, env_dict)\n",
    "\n",
    "obs = np.zeros((10000, total_obs_dim))\n",
    "act = np.zeros((10000,2))\n",
    "reward = np.zeros((10000,))\n",
    "mask = np.zeros((10000,))\n",
    "cpp_buffer.add(obs=obs, act=act, next_obs=obs, reward=reward, mask=mask)"
   ]
  },
  {
   "cell_type": "code",
   "execution_count": 19,
   "metadata": {},
   "outputs": [
    {
     "name": "stdout",
     "output_type": "stream",
     "text": [
      "142 µs ± 2.27 µs per loop (mean ± std. dev. of 7 runs, 10,000 loops each)\n"
     ]
    }
   ],
   "source": [
    "%timeit original_sample(original_buffer, 1000, num_agents, comm_dim)"
   ]
  },
  {
   "cell_type": "code",
   "execution_count": 18,
   "metadata": {},
   "outputs": [
    {
     "name": "stdout",
     "output_type": "stream",
     "text": [
      "296 µs ± 3.46 µs per loop (mean ± std. dev. of 7 runs, 1,000 loops each)\n"
     ]
    }
   ],
   "source": [
    "%timeit cpp_sample(cpp_buffer, False, False, 1000, num_agents, comm_dim)"
   ]
  }
 ],
 "metadata": {
  "kernelspec": {
   "display_name": ".venv",
   "language": "python",
   "name": "python3"
  },
  "language_info": {
   "codemirror_mode": {
    "name": "ipython",
    "version": 3
   },
   "file_extension": ".py",
   "mimetype": "text/x-python",
   "name": "python",
   "nbconvert_exporter": "python",
   "pygments_lexer": "ipython3",
   "version": "3.9.10"
  },
  "orig_nbformat": 4,
  "vscode": {
   "interpreter": {
    "hash": "4ed474c167ef5838512e9ed5e5f8669ecfbd906a2d8a69b27b079c8cc00c81be"
   }
  }
 },
 "nbformat": 4,
 "nbformat_minor": 2
}
